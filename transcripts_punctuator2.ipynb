{
  "cells": [
    {
      "cell_type": "code",
      "execution_count": null,
      "metadata": {
        "id": "_vwTbvNJaoIg"
      },
      "outputs": [],
      "source": [
        "# installations\n",
        "!pip install punctuator==0.9.6\n",
        "!pip install youtube_transcript_api==0.4.1"
      ]
    },
    {
      "cell_type": "code",
      "source": [
        "# load file for Google Colab\n",
        "\n",
        "from pydrive.auth import GoogleAuth\n",
        "from pydrive.drive import GoogleDrive\n",
        "from google.colab import auth\n",
        "from oauth2client.client import GoogleCredentials\n",
        "\n",
        "model_file = \"Demo-Europarl-EN.pcl\"\n",
        "pretrainedModelID = \"1VMnEe5eEzOwwAIkC9N9mAktBsJBlK_Ih\"\n",
        "\n",
        "auth.authenticate_user()\n",
        "gauth = GoogleAuth()\n",
        "gauth.credentials = GoogleCredentials.get_application_default()\n",
        "drive = GoogleDrive(gauth)\n",
        "\n",
        "downloaded = drive.CreateFile({'id': pretrainedModelID})\n",
        "downloaded.GetContentFile(model_file)\n",
        "\n",
        "\n",
        "# load file for local Jupyter Noteboook\n",
        "\n",
        "model_file = \"pretrained-model/Demo-Europarl-EN.pcl\""
      ],
      "metadata": {
        "id": "XxaPJqlTXrqs"
      },
      "execution_count": null,
      "outputs": []
    },
    {
      "cell_type": "code",
      "execution_count": null,
      "metadata": {
        "id": "PRt6zRQVaoIj"
      },
      "outputs": [],
      "source": [
        "# versions- theano: 1.0.5, python>2.7, punctuator-0.9.6 \n",
        "# import modules\n",
        "from youtube_transcript_api import YouTubeTranscriptApi\n",
        "from punctuator import Punctuator\n",
        "import warnings\n",
        "warnings.filterwarnings(\"ignore\")\n",
        "\n",
        "# load model\n",
        "punctuator2 = Punctuator('Demo-Europarl-EN.pcl')\n",
        "# p.punctuate('some text')"
      ]
    },
    {
      "cell_type": "markdown",
      "metadata": {
        "id": "aqPKjO55aoIk"
      },
      "source": [
        "# Extract Transcripts"
      ]
    },
    {
      "cell_type": "code",
      "execution_count": null,
      "metadata": {
        "id": "BFTBou7daoIl"
      },
      "outputs": [],
      "source": [
        "# few generated transcpirts ids 'iQaiMoUn-zc', 'sB34sRehUvU'\n",
        "# manual ids 'vVuLDgUWc6A' "
      ]
    },
    {
      "cell_type": "code",
      "execution_count": null,
      "metadata": {
        "id": "rumigjg1aoIl"
      },
      "outputs": [],
      "source": [
        "# helper function\n",
        "# first check youtube video has manual transcripts if yes extract otherwise use our stt model(In progress)\n",
        "def youtube_transcripts(video_id):\n",
        "    #list all transcripts which are available for a given video\n",
        "    transcript_list = YouTubeTranscriptApi.list_transcripts(video_id)\n",
        "    transcript = transcript_list.find_transcript(['en'])\n",
        "\n",
        "    # manual transrcipts\n",
        "    if transcript.is_generated == False: \n",
        "        manual_transcripts = transcript_list.find_manually_created_transcript(['en']) # manual trnscripts\n",
        "        final_transripts = manual_transcripts.fetch() # output transcripts\n",
        "        output_text = []\n",
        "        for text in final_transripts:\n",
        "            temp_text = text['text']\n",
        "            output_text.append(temp_text)\n",
        "            \n",
        "        final_text = ' '.join(output_text).replace('[Applause]', '').replace('[Music]', '')\n",
        "        final_text = final_text.replace('\\n', ' ')\n",
        "        print(\"[Info] Manual Transcripts Are Extracted.\\n\")\n",
        "        return final_text\n",
        "\n",
        "    # generated transcripts\n",
        "    else:\n",
        "        generated_transcripts = transcript_list.find_generated_transcript(['en']) # generated trnscripts\n",
        "        final_transripts = generated_transcripts.fetch() # output transcripts\n",
        "        output_text = []\n",
        "        for text in final_transripts:\n",
        "            temp_text = text['text']\n",
        "            output_text.append(temp_text)\n",
        "            \n",
        "        final_text = ' '.join(output_text).replace('[Applause]', '').replace('[Music]', '')\n",
        "        final_text = final_text.replace('\\n', ' ')\n",
        "        print('[Info] Sorry, Manual Transcripts Are Not Available For This Video!\\n')\n",
        "        print(\"[Info] Auto-Generated English Transcripts Are Extracted.\\n\")\n",
        "        return final_text"
      ]
    },
    {
      "cell_type": "code",
      "execution_count": null,
      "metadata": {
        "id": "33bJdN3YaoIm",
        "outputId": "11bbb7a0-060e-4d9f-a2bb-4e025a643240"
      },
      "outputs": [
        {
          "name": "stdout",
          "output_type": "stream",
          "text": [
            "[Info] Manual Transcripts Are Extracted.\n",
            "\n"
          ]
        }
      ],
      "source": [
        "# sample manual transcripts\n",
        "video_id = 'vVuLDgUWc6A'\n",
        "manual_trans = youtube_transcripts(video_id)"
      ]
    },
    {
      "cell_type": "code",
      "execution_count": null,
      "metadata": {
        "id": "uPq62JBJaoIn",
        "outputId": "48523001-0f35-4014-82d3-5ac056b9f142"
      },
      "outputs": [
        {
          "name": "stdout",
          "output_type": "stream",
          "text": [
            "[Info] Sorry, Manual Transcripts Are Not Available For This Video!\n",
            "\n",
            "[Info] Auto-Generated English Transcripts Are Extracted.\n",
            "\n"
          ]
        }
      ],
      "source": [
        "# sample generated transcripts\n",
        "video_id = 'sB34sRehUvU&t=18s'\n",
        "generated_trans = youtube_transcripts(video_id)"
      ]
    },
    {
      "cell_type": "markdown",
      "metadata": {
        "id": "GvbOh4EcaoIo"
      },
      "source": [
        "#  Add Punctuations"
      ]
    },
    {
      "cell_type": "markdown",
      "metadata": {
        "id": "X0nagrieaoIp"
      },
      "source": [
        "Add Punctuations for Generated Transcripts using Punctuator2 (https://github.com/ottokart/punctuator2)"
      ]
    },
    {
      "cell_type": "code",
      "execution_count": null,
      "metadata": {
        "id": "qzGT90vQaoIp"
      },
      "outputs": [],
      "source": [
        "# helper function for adding punctuations\n",
        "def add_puntuations(text):\n",
        "    punctuated_trans = punctuator2.punctuate(text)\n",
        "    print(\"\\n[Info] Punctuations Are Added Using Punctuator2.\\n\")\n",
        "    return punctuated_trans"
      ]
    },
    {
      "cell_type": "code",
      "execution_count": null,
      "metadata": {
        "id": "M2cNszgFaoIq",
        "outputId": "56b31c9d-b063-4fb0-ec3e-ca88223dac70"
      },
      "outputs": [
        {
          "name": "stdout",
          "output_type": "stream",
          "text": [
            "\n",
            "[Info] Punctuations Are Added Using Punctuator2.\n",
            "\n"
          ]
        },
        {
          "data": {
            "text/plain": [
              "\"Good evening everybody, my name is Nevada Thomas. It is really nice to see you all for a girl with many dreams, aspirations and ambitions. The one thing that I was fighting against was the lack of time but I think it's safe to say. We all wish we had more of that time as our lives and everything around us seems to be moving seems to be like somebody played a tape, recorder, press the fast-forward button and left it that way. It's all moving at such a rapid pace right. So it is only fair to us to pause, breathe and take a moment to think about the past. The good we faced, the bad we experienced but mind you when you move forward and like the only baggage that you would want to carry forward should be the good because it would be an unpleasant case. Otherwise, as I sat down to think about how to brainstorm and compile everything that I wanted to talk about today, there was one moment it was more of the revelation when I realized, if one 23 year old had so many things to talk about so much to say. Imagine the kind of life experiences and stories you would get to hear from people around the world. It was really exciting to think about it. Let me take you through mine now so I was born and raised in the beautiful China City, but my roots go back to a small village in it called a duel in irritating Kerala, though I was raised, schooled everything in thumb in Urdu. My connect with my homeland Kerala is very strong. In fact, it's as strong as my love for Kappa fish, curry for Emporia and Shia, is there are Mele alleys here you will know exactly what I'm talking about it's deep trust more, but I think I am privileged to say, I believe that I'm equally, a Telugu am I now as much as I am a Malayalee and a Tamilian, and this because this cultural integration is what makes me call anywhere home and I believe this cultural integration is, is necessary for us to grow better rolling back a couple of years now we're getting into the the topic I'm going to share with you a couple of my life experiences. What I went through and whatever I am today is because of all these experiences I had so I would like to share it with all of you, so rolling back a couple of yours, the word school, the word school resonated with an album to me, like a photo album of Polaroids flashing in front of my eyes. I have very vivid memories of what school meant to me. I faced the camera first, when I was eight years old and since then believe it or not. I have been to school, sometimes visited school by visit, I mean literally just visited school three or four times three or four days a month. Honestly, that's how much I've been there. There are I I, think. Definitely my teachers must have seen chief guests repeat themselves to events more than I've actually been in school, but going to work acting, you know on longer schedules and then coming back to sitting in class being attentive, completing class works being on par with where the rest of the class was was very taxing. Sometimes I would also want to give up removing all the makeup before I fly to bed, not the fair I could think about it or realize you know the the struggle with all this. This had already become my life, so as a kid I, remember, I wanted to take a moment to decide on few things before I proceeded forward, I wanted to draw a line between work and study. That's what I wanted to do. It sounds like a very, very simple idea, but trust me when I say this: it required a battalion, a battalion of people to execute I needed my teachers, my principal, my friends from workplace, my friends from school, my producers, my directors, all my technicians and my family. More than anything, and today, when I look back and think about it, I have been more than blessed I feel like I've, been blessed more than required to have had them all. In fact, my school was so supportive. My principal brother George was so supportive of me going to act that the three or four days that I would go to go to school. He would look at me and be like. Oh no Bates are you're here. When are you going back to work? I was like. Let me, and my timing was so off. The four or five days are like that. I got to be in school was when I had my math test. Don't even ask me about it: I've also played stunts where I I have fever and I I want my mom to take me back home just once, but yeah I have done that. Sadly, school was school was abundant. School was what set my foundation. The base of the base for me was: is it's just it's so strong and I can so happily say that my character and my personality anything to deal with the development of my personality. I owe it to my school and I. Can't thank or talk enough about the importance of holistic education that I received from school. This one memory is so vivid in my mind where the fact that I, the announcement of me receiving my first ever award for my first film in Malayalam, which is called where the other barrier I had received a kerala state award for it and the work the person I got to know that from was brother George. My principal I was in the school ground, practicing long jump for something for the sports tape all muddy and dirty and there's the student who come says who spells calling you? What do you instantly think I'm, like what did I do now? I behave that was, okay did I, do something wrong so from point A to point B, that's what I'm I'm thinking about so I go to his office and then he turns on the television tunes into a channel, and he simply said who won so I saw my name scrolling down with the picture em. Honestly that moment it hit me so hard that, rather than feeling accomplished or satisfied, everything around me became muted. It got really quiet and I thought that appreciation came just at the right moment in my life when I almost took it synonymous to wanting to show my gratitude towards all the people who helped me get to that point. My principal my family, everybody came to my mind at that point. It was just so special and that episode ended with you know like in my mind. It was like all my teachers from graduating me and seeing them celebrate and seeing them feel so joyous about me. Achieving something was validation to me that all that hours and days of hard work doing what I loved doing was absolutely worth it. So from then on I was happily studying away till. There was one moment where I I think I can speak confidently for all of you. There's that one moment in your school life when we feel something completely brand new. This is exactly after I finished, my twelfth grade, which, for some reason at this point in time it feels like a danger zone. That's how it that's, how it's made to be felt like a danger zone when I cross that that that stayed, I was posted with a very, very, very difficult question. What next, honestly? This is how it was in my mind, the room got extremely dark. There's a focus, light on you all your relatives start becoming active again even distant once your parents are alert your siblings. If you have younger ones, a sister or a brother, he or she is suddenly looking up up at you thinking. What are you going to do? Who are you going to be? What do you become? What do you want to become? Who do you want to be in life? Look though this is an exercise, just go home and say this question three times then you'll want to sit down because I've never been able to answer this question. Who do you want to become? What do you want to become in life? It's an incredibly heavy question which I feel requires a lot of thinking and a lot more living to actually figure out. So at that point, I had to choose between walking a trodden path or an untrodden path. Either you work in films or you study, something you specialize in some field and become something but I chose to walk in between yeah I did back then I don't know, I was just I I. Remember telling my parents, Amma daddy I, want to I, want to work as I'm, studying and I. Remember them looking at each other and they were like well. If you can manage, then we don't have a problem with it, because, honestly, this decision was taken by me honestly, because I couldn't imagine myself doing just one of it, because most of my life I've been working and studying together. So I just couldn't think about doing choosing one from that point on everything moved so fast. It moved literally like this I moved on from wanting to study aerospace engineering to joining University, to study five years of architecture. Don't ask me how that happened. That happened. So when this fairy tale of school life was just ending, the actual picture came into my life. When I started, college College came in like a royal entry, it had a royal entry call. It sort of feels like us, going to watch a Rajinikanth film first day. First show you have this unexplainable hi, you don't know what you're feeling you suddenly feel like an adult you, you know you're given up you're, given a car, you can drive yourself to college. You know school though it's only cycling and auto man, maybe my van driver who drove me for 14 years and suddenly you have a car, you have a place to park your car and then you no longer wearing uniforms. It's so exciting. You know you, you feel like you're an adult and you have responsibilities and honestly no money can ever buy the experiences that I had or the lessons I learned during college, the five years of me studying an institution and moving around with the people there. It taught me more about myself than anything or anybody could have ever taught me. College was fun, but architecture did not serve it easy for me or for any of my classmates for that matter. I was visibly struggling at this point. I was I. I had a lot of struggles with having to manage minimum attendance required to appear for exams struggling with trying to trying really hard to perform well struggling with completely completing designs on time struggling to be on par with where the rest of the class was. This was extremely taxing. It was but while also listening to strip readings- and there were a lot of narrations happening, which I would okay at one point so that I can work on those films when I had my semester vacation. So this is how my pattern in college life was all this was happening, but the real struggle was inside me. I was constantly at war. With my mind, I was struggling with exaggerated thoughts. I was fighting against stress more than the physical exhaustion. I was fighting against stress, strain fear, doubt overthinking procrastination and also extreme self-criticism. All these were emotions. I was not prepared to fail. I was not prepared to handle. Nobody taught me in school or anywhere to to learn how to handle these things, and all I would do is sometimes just break down and cry. Would that make me feel better sometimes, but not really. I would not know what to do when I was in a point that way it was extremely difficult now, when I think about that face between 2013 and 2018. Happily, thinking about it, I also think how did I even get through? How did I get through that? At that point, how did I go through from semester to semester? How did I even do that I think about it, and there were a couple of things that came to my mind. Was it the way? I was so warmly welcomed into a whole new industry, the Telugu industry, which happened during my second year of college, or was it the kind of appreciation that I and my team received for films like gentlemen and then the quarry and everything that followed? Wasn't the radical thinking of my mom and the constant support she gave me? Was it the difficulty with which my father moved so far away from family to work for the family? Earn money for the family, keep us in good shape, while he missed us so much and still worked with so much of conviction. Was it seeing my brother live his life like there's no tomorrow so happy? Was it seeing my friends, though they were having struggles of their own working extremely hard, toiling rigorously to make sure that they accomplished their dreams while helping me out - or was it the hand of God? That was constantly there beside me guiding me through every step of the way and always whispering in my ears that you're not alone? Yes, I, believe it was all of this, but, most importantly, it was the small decision that I made to have little faith in myself. That I could do it, no matter what I could do it. It seemed like a very, very simple idea, but it actually worked. I just thought this is my life I wanted. This I should be prepared from all of this, because I chose this. The decision was mine, so no matter how difficult it gets, nobody is going to help you. Nobody is going to be able to help you but yourself. So when I pass out of college honestly, I came out, I believe I came out. Much stronger I came out to be a stronger person mentally and physically I started. Appreciating myself more I accepted the bodily changes I had through time, I understood the value and importance of constructive criticism and I started seeing beauty and flaws, because trust me I realized more than ever that we are perfect just the way we are. We don't realize it. We are perfect just the way we are, and boys and girls, please don't bend your knee to satisfy societal standards, live your life because that's yours and no matter how much you wish you got help, no matter how much you wish that this moment, just fast I closed my eyes in this moment just pass. It will never happen because those things only happen in movies. You know they really don't happen into your life. So as long as you start believing in believing in yourself, these things will not magically happen and through all this I realize the importance of people and the importance of interaction. I needed people. You know people are what people are who made me get through all this time. They helped me a lot. Every doctor needs a patient. Every police needs a case. Every climber needs a mountain. Every speaker needs an audience. Likewise, every actor needs an audience like every speaker needs a listener. Every actor needs an audience and me being an actor I feel extremely privileged to be able to be so many different kinds of people, because that is my dream. We human beings are gregarious in nature. No man is an island. We cannot live in an in an alienated society, so I believe the choices I make I wanted the choices that I make to have a rippling effect in the society, but not a crippling effect. I wanted to make sure that I am different people. That was my dream. That is my dream. I want to be so many different characters. I want to have I want to portray the shades that we all experience, and we wish we experience from good to the bad to fictional everything and I all this, while everything that I was saying, my life story is not great. My life story is not extraordinary and I did not do great things, but the only thing that I did and that I'm happy about is that I just would not quit I would not want to stop trying so I want to portray people that way you know and the medium. This is my dream, so the medium I choose to voice out. My expression is cinema, and I will always continue doing that. Thank you.\""
            ]
          },
          "execution_count": 10,
          "metadata": {},
          "output_type": "execute_result"
        }
      ],
      "source": [
        "add_puntuations(generated_trans)"
      ]
    },
    {
      "cell_type": "code",
      "execution_count": null,
      "metadata": {
        "id": "Mell0-l6aoIq"
      },
      "outputs": [],
      "source": [
        ""
      ]
    },
    {
      "cell_type": "code",
      "execution_count": null,
      "metadata": {
        "id": "Ej1Hzo0uaoIq"
      },
      "outputs": [],
      "source": [
        ""
      ]
    },
    {
      "cell_type": "code",
      "execution_count": null,
      "metadata": {
        "id": "w5Ssie2EaoIq"
      },
      "outputs": [],
      "source": [
        "pattern = 'https://www.youtube.com/watch?v='\n",
        "video_link = 'https://www.youtube.com/watch?v=FR24hPsY4QE&t=77s'"
      ]
    },
    {
      "cell_type": "code",
      "execution_count": null,
      "metadata": {
        "id": "-zIzV2qMaoIr",
        "outputId": "5940c9d9-cf51-48c6-8da6-9140194b68e1"
      },
      "outputs": [
        {
          "name": "stdout",
          "output_type": "stream",
          "text": [
            "FR24hPsY4QE&t=77s\n"
          ]
        }
      ],
      "source": [
        "if pattern in video_link:\n",
        "    video_id = video_link.split(pattern)[1]\n",
        "    print(video_id)\n",
        "    "
      ]
    },
    {
      "cell_type": "code",
      "execution_count": null,
      "metadata": {
        "id": "kxHPUOZjaoIr"
      },
      "outputs": [],
      "source": [
        ""
      ]
    }
  ],
  "metadata": {
    "kernelspec": {
      "display_name": "Python 3",
      "language": "python",
      "name": "python3"
    },
    "language_info": {
      "codemirror_mode": {
        "name": "ipython",
        "version": 3
      },
      "file_extension": ".py",
      "mimetype": "text/x-python",
      "name": "python",
      "nbconvert_exporter": "python",
      "pygments_lexer": "ipython3",
      "version": "3.7.4"
    },
    "colab": {
      "name": "transcripts_punctuator2.ipynb",
      "provenance": []
    }
  },
  "nbformat": 4,
  "nbformat_minor": 0
}

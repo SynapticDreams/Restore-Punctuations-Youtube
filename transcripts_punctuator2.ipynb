{
  "cells": [
    {
      "cell_type": "code",
      "source": [
        "#Helps display output wrapped to window size\n",
        "\n",
        "from IPython.display import HTML, display\n",
        "\n",
        "def set_css():\n",
        "  display(HTML('''\n",
        "  <style>\n",
        "    pre {\n",
        "        white-space: pre-wrap;\n",
        "    }\n",
        "  </style>\n",
        "  '''))\n",
        "get_ipython().events.register('pre_run_cell', set_css)"
      ],
      "metadata": {
        "id": "O-uv8Vm4WLq9",
        "outputId": "b8723c49-fe02-48be-a6bb-db2de232ea25",
        "colab": {
          "base_uri": "https://localhost:8080/",
          "height": 17
        }
      },
      "execution_count": 13,
      "outputs": [
        {
          "output_type": "display_data",
          "data": {
            "text/plain": [
              "<IPython.core.display.HTML object>"
            ],
            "text/html": [
              "\n",
              "  <style>\n",
              "    pre {\n",
              "        white-space: pre-wrap;\n",
              "    }\n",
              "  </style>\n",
              "  "
            ]
          },
          "metadata": {}
        }
      ]
    },
    {
      "cell_type": "code",
      "execution_count": null,
      "metadata": {
        "id": "_vwTbvNJaoIg"
      },
      "outputs": [],
      "source": [
        "# installations\n",
        "\n",
        "!pip install punctuator==0.9.6\n",
        "!pip install youtube_transcript_api==0.4.1\n",
        "\n",
        "#Running pymc3 last makes the punctuator work\n",
        "!pip install mkl pymc3==3.11.0"
      ]
    },
    {
      "cell_type": "code",
      "source": [
        "# load file for Google Colab\n",
        "\n",
        "from pydrive.auth import GoogleAuth\n",
        "from pydrive.drive import GoogleDrive\n",
        "from google.colab import auth\n",
        "from oauth2client.client import GoogleCredentials\n",
        "\n",
        "model_file = \"Demo-Europarl-EN.pcl\"\n",
        "pretrainedModelID = \"1VMnEe5eEzOwwAIkC9N9mAktBsJBlK_Ih\"\n",
        "\n",
        "auth.authenticate_user()\n",
        "gauth = GoogleAuth()\n",
        "gauth.credentials = GoogleCredentials.get_application_default()\n",
        "drive = GoogleDrive(gauth)\n",
        "\n",
        "downloaded = drive.CreateFile({'id': pretrainedModelID})\n",
        "downloaded.GetContentFile(model_file)\n",
        "\n",
        "\n",
        "# load file for local Jupyter Noteboook\n",
        "\n",
        "model_file = \"pretrained-model/Demo-Europarl-EN.pcl\""
      ],
      "metadata": {
        "id": "XxaPJqlTXrqs"
      },
      "execution_count": 2,
      "outputs": []
    },
    {
      "cell_type": "code",
      "execution_count": null,
      "metadata": {
        "id": "PRt6zRQVaoIj"
      },
      "outputs": [],
      "source": [
        "# versions- theano: 1.0.5, python>2.7, punctuator-0.9.6 \n",
        "# import modules\n",
        "from youtube_transcript_api import YouTubeTranscriptApi\n",
        "from punctuator import Punctuator\n",
        "# import warnings\n",
        "# warnings.filterwarnings(\"ignore\")\n",
        "\n",
        "# load model\n",
        "punctuator2 = Punctuator('/content/Demo-Europarl-EN.pcl')\n",
        "# p.punctuate('some text')"
      ]
    },
    {
      "cell_type": "markdown",
      "metadata": {
        "id": "aqPKjO55aoIk"
      },
      "source": [
        "# Extract Transcripts"
      ]
    },
    {
      "cell_type": "code",
      "execution_count": null,
      "metadata": {
        "id": "BFTBou7daoIl"
      },
      "outputs": [],
      "source": [
        "# few generated transcpirts ids 'iQaiMoUn-zc', 'sB34sRehUvU'\n",
        "# manual ids 'vVuLDgUWc6A' "
      ]
    },
    {
      "cell_type": "code",
      "execution_count": 4,
      "metadata": {
        "id": "rumigjg1aoIl"
      },
      "outputs": [],
      "source": [
        "# helper function\n",
        "# first check youtube video has manual transcripts if yes extract otherwise use our stt model(In progress)\n",
        "def youtube_transcripts(video_id):\n",
        "    #list all transcripts which are available for a given video\n",
        "    transcript_list = YouTubeTranscriptApi.list_transcripts(video_id)\n",
        "    transcript = transcript_list.find_transcript(['en'])\n",
        "\n",
        "    # manual transrcipts\n",
        "    if transcript.is_generated == False: \n",
        "        manual_transcripts = transcript_list.find_manually_created_transcript(['en']) # manual trnscripts\n",
        "        final_transripts = manual_transcripts.fetch() # output transcripts\n",
        "        output_text = []\n",
        "        for text in final_transripts:\n",
        "            temp_text = text['text']\n",
        "            output_text.append(temp_text)\n",
        "            \n",
        "        final_text = ' '.join(output_text).replace('[Applause]', '').replace('[Music]', '')\n",
        "        final_text = final_text.replace('\\n', ' ')\n",
        "        print(\"[Info] Manual Transcripts Are Extracted.\\n\")\n",
        "        return final_text\n",
        "\n",
        "    # generated transcripts\n",
        "    else:\n",
        "        generated_transcripts = transcript_list.find_generated_transcript(['en']) # generated trnscripts\n",
        "        final_transripts = generated_transcripts.fetch() # output transcripts\n",
        "        output_text = []\n",
        "        for text in final_transripts:\n",
        "            temp_text = text['text']\n",
        "            output_text.append(temp_text)\n",
        "            \n",
        "        final_text = ' '.join(output_text).replace('[Applause]', '').replace('[Music]', '')\n",
        "        final_text = final_text.replace('\\n', ' ')\n",
        "        print('[Info] Sorry, Manual Transcripts Are Not Available For This Video!\\n')\n",
        "        print(\"[Info] Auto-Generated English Transcripts Are Extracted.\\n\")\n",
        "        return final_text"
      ]
    },
    {
      "cell_type": "code",
      "execution_count": null,
      "metadata": {
        "id": "uPq62JBJaoIn"
      },
      "outputs": [],
      "source": [
        "# sample generated transcripts\n",
        "video_id = 'sB34sRehUvU&t=18s'\n",
        "generated_trans = youtube_transcripts(video_id)"
      ]
    },
    {
      "cell_type": "markdown",
      "metadata": {
        "id": "GvbOh4EcaoIo"
      },
      "source": [
        "#  Add Punctuations"
      ]
    },
    {
      "cell_type": "markdown",
      "metadata": {
        "id": "X0nagrieaoIp"
      },
      "source": [
        "Add Punctuations for Generated Transcripts using Punctuator2 (https://github.com/ottokart/punctuator2)"
      ]
    },
    {
      "cell_type": "code",
      "execution_count": 6,
      "metadata": {
        "id": "qzGT90vQaoIp"
      },
      "outputs": [],
      "source": [
        "# helper function for adding punctuations\n",
        "def add_puntuations(text):\n",
        "    punctuated_trans = punctuator2.punctuate(text)\n",
        "    print(\"\\n[Info] Punctuations Are Added Using Punctuator2.\\n\")\n",
        "    return punctuated_trans"
      ]
    },
    {
      "cell_type": "code",
      "source": [
        "print(add_puntuations(generated_trans))"
      ],
      "metadata": {
        "id": "95MYaqNiUBVq"
      },
      "execution_count": null,
      "outputs": []
    }
  ],
  "metadata": {
    "kernelspec": {
      "display_name": "Python 3",
      "language": "python",
      "name": "python3"
    },
    "language_info": {
      "codemirror_mode": {
        "name": "ipython",
        "version": 3
      },
      "file_extension": ".py",
      "mimetype": "text/x-python",
      "name": "python",
      "nbconvert_exporter": "python",
      "pygments_lexer": "ipython3",
      "version": "3.7.4"
    },
    "colab": {
      "name": "transcripts_punctuator2.ipynb",
      "provenance": []
    }
  },
  "nbformat": 4,
  "nbformat_minor": 0
}
